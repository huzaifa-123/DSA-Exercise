{
  "nbformat": 4,
  "nbformat_minor": 0,
  "metadata": {
    "colab": {
      "name": "200901010-DSA-ASSIGNMENT_1.ipynb",
      "provenance": [],
      "collapsed_sections": [],
      "authorship_tag": "ABX9TyMFj/NV1XKdCvOpeQ0HUJT2",
      "include_colab_link": true
    },
    "kernelspec": {
      "name": "python3",
      "display_name": "Python 3"
    },
    "language_info": {
      "name": "python"
    }
  },
  "cells": [
    {
      "cell_type": "markdown",
      "metadata": {
        "id": "view-in-github",
        "colab_type": "text"
      },
      "source": [
        "<a href=\"https://colab.research.google.com/github/huzaifa-123/DSA-Exercise/blob/main/200901010_DSA_ASSIGNMENT_1.ipynb\" target=\"_parent\"><img src=\"https://colab.research.google.com/assets/colab-badge.svg\" alt=\"Open In Colab\"/></a>"
      ]
    },
    {
      "cell_type": "markdown",
      "metadata": {
        "id": "rntEfb3W67xo"
      },
      "source": [
        "* **DATA STRUCTURE AND ALGORITHM**   \n",
        "* **ASSIGNMENT-1**\n",
        "* **NAME: HUZAIFA AHMED**\n",
        "* **REG# 200901010** \n",
        "\n",
        "\n",
        "\n"
      ]
    },
    {
      "cell_type": "markdown",
      "metadata": {
        "id": "4VNnmcVA_jnj"
      },
      "source": [
        "**Question-1**\n",
        "\n",
        "\n",
        "**Answer:** The value returned during the given stack poperation is 9 ."
      ]
    },
    {
      "cell_type": "markdown",
      "metadata": {
        "id": "-Ca1Q1IBBTCY"
      },
      "source": [
        "**Question-2**\n",
        "\n",
        "\n",
        "**Answer:** The current size of stack is 18."
      ]
    },
    {
      "cell_type": "code",
      "metadata": {
        "id": "SpgxJBAxOFY3",
        "colab": {
          "base_uri": "https://localhost:8080/"
        },
        "outputId": "b785d181-722a-422c-e82f-d1fcb4576568"
      },
      "source": [
        "#Question-3\n",
        "class Empty(Exception):\n",
        "    pass\n",
        "\n",
        "class Stack():\n",
        "    def __init__(self):\n",
        "        self._data = []\n",
        "         \n",
        "    def __len__(self):\n",
        "        return len(self._data)\n",
        "    \n",
        "    def is_empty(self):\n",
        "        return len(self._data) == 0\n",
        "    \n",
        "    def push(self, value):\n",
        "        self._data.append(value)\n",
        "    \n",
        "    def top(self):\n",
        "        return self._data[-1]\n",
        "    \n",
        "    def pop(self):\n",
        "        if self.is_empty():\n",
        "            raise Empty('List is empty')\n",
        "        return self._data.pop()\n",
        "    \n",
        "    def full_pop(self):\n",
        "        ans = []\n",
        "        while not self.is_empty():\n",
        "            ans.append(self.pop())\n",
        "        return ans\n",
        "    \n",
        "def transfer(S, T):\n",
        "    while not S.is_empty():\n",
        "        T.push(S.pop())\n",
        "\n",
        "\n",
        "\n",
        "S,T = Stack(), Stack()\n",
        "\n",
        "try: S.pop()\n",
        "except Exception as e: print (e)\n",
        "\n",
        "for i in range(20):\n",
        "    S.push(i)\n",
        "    \n",
        "print('Top of S is: ', S.top())\n",
        "transfer(S, T)  \n",
        "print('Top of T is: ', T.top())\n",
        "S.full_pop(), T.full_pop()\n"
      ],
      "execution_count": 128,
      "outputs": [
        {
          "output_type": "stream",
          "name": "stdout",
          "text": [
            "List is empty\n",
            "Top of S is:  19\n",
            "Top of T is:  0\n"
          ]
        },
        {
          "output_type": "execute_result",
          "data": {
            "text/plain": [
              "([], [0, 1, 2, 3, 4, 5, 6, 7, 8, 9, 10, 11, 12, 13, 14, 15, 16, 17, 18, 19])"
            ]
          },
          "metadata": {},
          "execution_count": 128
        }
      ]
    },
    {
      "cell_type": "code",
      "metadata": {
        "id": "R53noCbtUUxj"
      },
      "source": [
        "#Question-4\n",
        "def remove_all(stack):\n",
        "\tdef helper(stack,stack_size):\n",
        "\t\tif len(stack) == 0:\n",
        "\t\t\treturn stack\n",
        "\t\tstack.pop()\n",
        "\t\tif stack is None:\n",
        "\t\t\tstack = ArrayStack()\n",
        "\t\t\treturn stack\n",
        "\t\treturn helper(stack, len(stack))\n",
        "\tstack = helper(stack,len(stack))\n",
        "\treturn stack\n"
      ],
      "execution_count": 81,
      "outputs": []
    },
    {
      "cell_type": "code",
      "metadata": {
        "id": "mqEoOpyRboX5"
      },
      "source": [
        "#Question-5\n",
        "def reverse_elem(array):\n",
        "\tstack = ArrayStack()\n",
        "\tfor i in range(len(array)):\n",
        "\t\tstack.push(array[i])\n",
        "\tfor i in range(len(array)):\n",
        "\t\tarray[i] = stack.pop()\n",
        "\treturn array"
      ],
      "execution_count": 100,
      "outputs": []
    },
    {
      "cell_type": "code",
      "metadata": {
        "colab": {
          "base_uri": "https://localhost:8080/"
        },
        "id": "yQlYZ8JqDA3e",
        "outputId": "f064847b-6034-4068-80ab-d5047147b4e7"
      },
      "source": [
        "#Question-7\n",
        "#Procedure\n",
        "class ArrayQueue:\n",
        "    \n",
        "    DEFAULT_CAPACITY = 10\n",
        "    \n",
        "    def __init__(self):\n",
        "        self._data = [None] * ArrayQueue.DEFAULT_CAPACITY\n",
        "        self._size = 0\n",
        "        self._front = 0\n",
        "        \n",
        "    def __len__(self):\n",
        "        return self._size\n",
        "    \n",
        "    def is_empty(self):\n",
        "        return self._size == 0\n",
        "    \n",
        "    def first(self):\n",
        "        if self.is_empty():\n",
        "            raise Empty(\"Queue is empty\")\n",
        "        return self._data[self._front]\n",
        "    \n",
        "    def dequeue(self):\n",
        "        \n",
        "        if self.is_empty():\n",
        "            raise Empty(\"Queue is empty\")\n",
        "        answer = self._data[self._front]\n",
        "        self._data[self._front] = None\n",
        "        self._front = (self._front +1) % len(self._data)\n",
        "        self._size -= 1\n",
        "        \n",
        "        if 0 < self._size < len(self._data) // 4:\n",
        "            self._resize(len(self._data) // 2)\n",
        "        return answer\n",
        "    \n",
        "    def enqueue(self, e):\n",
        "        if self._size == len(self._data):\n",
        "            self._resize(2 * len(self._data))\n",
        "        avail = (self._front + self._size) % len(self._data)\n",
        "        self._data[avail] = e\n",
        "        self._size += 1\n",
        "    \n",
        "    def _resize(self, cap):\n",
        "        \n",
        "        old = self._data\n",
        "        self._data = [None] * cap\n",
        "        walk = self._front\n",
        "        for k in range(self._size):\n",
        "            self._data[k] = old[walk]\n",
        "            walk = (1 + walk) % len(old)\n",
        "        self._front = 0\n",
        "x = ArrayQueue()\n",
        "x.enqueue(5)\n",
        "x.enqueue(3)\n",
        "x.dequeue()\n",
        "x.enqueue(2)\n",
        "x.enqueue(8)\n",
        "x.dequeue()\n",
        "x.dequeue()\n",
        "x.enqueue(9)\n",
        "x.enqueue(1)\n",
        "x.dequeue()\n",
        "x.enqueue(7)\n",
        "x.enqueue(6)\n",
        "x.dequeue()\n",
        "x.dequeue()\n",
        "x.enqueue(4)\n",
        "x.dequeue()\n",
        "x.dequeue()\n",
        "#The answer is 6"
      ],
      "execution_count": 108,
      "outputs": [
        {
          "output_type": "execute_result",
          "data": {
            "text/plain": [
              "6"
            ]
          },
          "metadata": {},
          "execution_count": 108
        }
      ]
    },
    {
      "cell_type": "markdown",
      "metadata": {
        "id": "CR2qWvarW3jw"
      },
      "source": [
        "**Question-8**\n",
        "\n",
        "**Answer:** 32−(15−5)=22\n",
        "So currently the size of Q is 22.\n"
      ]
    },
    {
      "cell_type": "markdown",
      "metadata": {
        "id": "pyilqv1PeHU1"
      },
      "source": [
        "**Question-9**\n",
        "\n",
        "**Answer:** It was initially an empty queue, we assume the front value was initially 0.\n",
        "self._front only increments when a dequeue takes place so the final value would be 10 ahead of its initial value, \n",
        "or self._front == 10 is self._front was initially 0 as assumed. More generally, it's (10+initial) % 30\n"
      ]
    },
    {
      "cell_type": "markdown",
      "metadata": {
        "id": "wn-U5HsAel7B"
      },
      "source": [
        "**Question-10**\n",
        "\n",
        "**Answer:** This method will copy the data in exactly, but now there will be a huge gap between the middle of the data\n",
        "filled with None and the next value (which is situated at ._data[0])\n",
        "\n",
        "ex. a queue with 1,2,3,4,5,6,7 with front = 3:\n",
        "      F\n",
        "5,6,7,1,2,3,4\n",
        "\n",
        "would become:\n",
        "      F\n",
        "5,6,7,1,2,3,4,N,N,N,N,N,N,N\n",
        "\n",
        "the next insertion would be at front + self._size, which would be:\n",
        "      F\n",
        "5,6,7,1,2,3,4,N,N,N,8,N,N,N and so on, which results in the fragmentation of the data.  Successive dequeues would \n",
        "result in 1,2,3,4,N,N,N,....., N,N instead of the desired 1,2,3,4,5,6,7, is_empty==True\n",
        "\n",
        "\n",
        "In contract, the walk assures that the data will stay both in order and in direct sequence, producing:\n",
        "\n",
        "F\n",
        "1,2,3,4,5,6,7,N,N,N,N,N,N,N"
      ]
    },
    {
      "cell_type": "code",
      "metadata": {
        "colab": {
          "base_uri": "https://localhost:8080/"
        },
        "id": "NfVZcZhqe6dM",
        "outputId": "60a73c61-3e75-4219-8bfe-da820c73c68b"
      },
      "source": [
        "#Question-11\n",
        "import collections\n",
        "\n",
        "class Queue():\n",
        "    def __init__(self):\n",
        "        self._data = collections.deque()\n",
        "        self._size = 0\n",
        "        \n",
        "        \n",
        "    def __len__(self):\n",
        "        return self._size\n",
        "    \n",
        "    def first(self):\n",
        "        return self._data[0]\n",
        "        \n",
        "    def enqueue(self, value):\n",
        "        self._size += 1\n",
        "        self._data.append(value)  #Note we append here to add an element to the end of the queue\n",
        "        \n",
        "    def is_empty(self):\n",
        "        return self._size == 0\n",
        "    \n",
        "    def dequeue(self):\n",
        "        if self.is_empty():\n",
        "            raise ValueError('Queue is empty')\n",
        "        else:\n",
        "            ans = self._data.popleft()\n",
        "            self._size -= 1\n",
        "            return ans\n",
        "        \n",
        "        \n",
        "dq = Queue()\n",
        "\n",
        "for i in range(10):\n",
        "    dq.enqueue(i)\n",
        "\n",
        "    \n",
        "print('First', dq.first(), 'Length', len(dq))\n",
        "while not dq.is_empty():\n",
        "    print( dq.dequeue(),  end = ', ')"
      ],
      "execution_count": 129,
      "outputs": [
        {
          "output_type": "stream",
          "name": "stdout",
          "text": [
            "First 0 Length 10\n",
            "0, 1, 2, 3, 4, 5, 6, 7, 8, 9, "
          ]
        }
      ]
    },
    {
      "cell_type": "markdown",
      "metadata": {
        "id": "byEz7PiYfCly"
      },
      "source": [
        "**Question-12**\n",
        "\n",
        "**Answer:** Return   Values in the Stack\n",
        "-        [4]\n",
        "-        [4, 8]\n",
        "-        [4, 8, 9]\n",
        "-        [5, 4, 8, 9]\n",
        "9        [5, 4, 8, 9] \n",
        "\n",
        "5        [4, 8, 9]\n",
        "9        [4,8]\n",
        "-        [4,8,7]\n",
        "4        [4,8,7]\n",
        "7        [4,8,7]\n",
        "-        [4,8,7,6]\n",
        "4        [8,7,6]\n",
        "8        [7,6]"
      ]
    },
    {
      "cell_type": "code",
      "metadata": {
        "id": "CYxblJidkGDC"
      },
      "source": [
        "#Question-13\n",
        "from queue import Queue\n",
        "Q = Queue\n",
        "D = collections.deque()\n",
        "for i in range(1, 9, 1):\n",
        "    D.append(i)\n",
        "    \n",
        "    \n",
        "def rearrange_using_queue(D, Q):    \n",
        "    for i in range(5):             \n",
        "        Q.enqueue(D.popleft())     \n",
        "        \n",
        "    for i in range(3):\n",
        "        D.append(Q.dequeue())    \n",
        "        \n",
        "    \n",
        "    for i in range(2):\n",
        "        D.appendleft(Q.dequeue())  \n",
        "        \n",
        "    for i in range(3):\n",
        "        Q.enqueue(D.pop())        \n",
        "\n",
        "    for i in range(3):\n",
        "        D.appendleft(Q.dequeue())  \n",
        "  \n",
        "rearrange_using_queue(D, Q)\n",
        "\n",
        "print('Values of Q:')\n",
        "while not Q.is_empty():\n",
        "    print(Q.dequeue())\n",
        "    \n",
        "    \n",
        "print('Values of D')\n",
        "while len(D) != 0:\n",
        "    print(D.popleft())"
      ],
      "execution_count": null,
      "outputs": []
    },
    {
      "cell_type": "code",
      "metadata": {
        "colab": {
          "base_uri": "https://localhost:8080/"
        },
        "id": "L320GmTgZdRR",
        "outputId": "19fe5e51-deea-43e7-d309-021974b333b6"
      },
      "source": [
        "#Question-14\n",
        "import collections\n",
        "class Stack:\n",
        "     def __init__(self):\n",
        "         self.items = []\n",
        "\n",
        "     # I have changed method name isEmpty to is_empty\n",
        "     # because in your code you have used is_empty\n",
        "     def is_empty(self):\n",
        "         return self.items == []\n",
        "\n",
        "     def push(self, item):\n",
        "         self.items.append(item)\n",
        "\n",
        "     def pop(self):\n",
        "         return self.items.pop()\n",
        "\n",
        "     def peek(self):\n",
        "         return self.items[len(self.items)-1]\n",
        "\n",
        "     def size(self):\n",
        "         return len(self.items)\n",
        "\n",
        "S = Stack()\n",
        "D = collections.deque()\n",
        "\n",
        "for i in range(1,9,1):\n",
        "    D.append(i)\n",
        "    \n",
        "\n",
        "    \n",
        "def rearrange_using_stack(D, S):\n",
        "    for _ in range(4):\n",
        "        S.push(D.popleft())    # [5,6,7,8], [1,2,3,4]\n",
        "        \n",
        "    D.append(S.pop())          # [5,6,7,8,4], [1,2,3]\n",
        "    \n",
        "    S.push(D.popleft())        # [6,7,8,4], [1,2,3,5]\n",
        "    \n",
        "    S.push(D.pop())            # [6,7,8], [1,2,3,5,4]\n",
        "    \n",
        "    for _ in range(5):\n",
        "        D.appendleft(S.pop())  #[1,2,3,5,4,6,7,8], []\n",
        "    \n",
        "    \n",
        "    \n",
        "    \n",
        "    \n",
        "rearrange_using_stack(D, S) \n",
        "    \n",
        "    \n",
        "print('Values of S')\n",
        "while not S.is_empty():\n",
        "    print(S.pop())\n",
        "    \n",
        "print('Values of D:')\n",
        "while len(D) != 0:\n",
        "    print(D.popleft())"
      ],
      "execution_count": 119,
      "outputs": [
        {
          "output_type": "stream",
          "name": "stdout",
          "text": [
            "Values of S\n",
            "Values of D:\n",
            "1\n",
            "2\n",
            "3\n",
            "5\n",
            "4\n",
            "6\n",
            "7\n",
            "8\n"
          ]
        }
      ]
    },
    {
      "cell_type": "code",
      "metadata": {
        "id": "PKFOrGsxaPxA"
      },
      "source": [
        ""
      ],
      "execution_count": null,
      "outputs": []
    }
  ]
}